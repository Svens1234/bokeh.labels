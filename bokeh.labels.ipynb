{
 "cells": [
  {
   "cell_type": "code",
   "execution_count": 1,
   "id": "f831b883",
   "metadata": {},
   "outputs": [],
   "source": [
    "from bokeh.plotting import figure, output_file, show"
   ]
  },
  {
   "cell_type": "code",
   "execution_count": 2,
   "id": "39ed89a0",
   "metadata": {},
   "outputs": [],
   "source": [
    "output_file(\"bounds.html\")\n",
    "\n",
    "p = figure(width=400, height=400)\n",
    "p.circle([1,2,3,4,5], [2,5,8,2,7], size=10)\n",
    "\n",
    "p.xaxis.axis_label = \"Lot Number\"\n",
    "p.xaxis.axis_label_text_color = \"#aa6666\"\n",
    "p.xaxis.axis_label_standoff = 30\n",
    "\n",
    "p.yaxis.axis_label = \"Bin Count\"\n",
    "p.yaxis.axis_label_text_font_style = \"italic\"\n",
    "\n",
    "show(p)"
   ]
  },
  {
   "cell_type": "code",
   "execution_count": null,
   "id": "df4a0422",
   "metadata": {},
   "outputs": [],
   "source": []
  }
 ],
 "metadata": {
  "kernelspec": {
   "display_name": "Python 3 (ipykernel)",
   "language": "python",
   "name": "python3"
  },
  "language_info": {
   "codemirror_mode": {
    "name": "ipython",
    "version": 3
   },
   "file_extension": ".py",
   "mimetype": "text/x-python",
   "name": "python",
   "nbconvert_exporter": "python",
   "pygments_lexer": "ipython3",
   "version": "3.10.5"
  }
 },
 "nbformat": 4,
 "nbformat_minor": 5
}
